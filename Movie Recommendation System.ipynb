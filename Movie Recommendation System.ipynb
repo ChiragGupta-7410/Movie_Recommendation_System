{
 "cells": [
  {
   "cell_type": "markdown",
   "id": "32174cb9",
   "metadata": {},
   "source": [
    "# Movie Recommendation System"
   ]
  },
  {
   "cell_type": "markdown",
   "id": "6a8b0813",
   "metadata": {},
   "source": [
    "## Importing Libraries"
   ]
  },
  {
   "cell_type": "code",
   "execution_count": 1,
   "id": "d79c3201",
   "metadata": {},
   "outputs": [],
   "source": [
    "import numpy as np\n",
    "import pandas as pd\n",
    "import re\n",
    "from sklearn.feature_extraction.text import CountVectorizer\n",
    "from sklearn.metrics.pairwise import cosine_similarity\n",
    "import pickle"
   ]
  },
  {
   "cell_type": "markdown",
   "id": "bcecba97",
   "metadata": {},
   "source": [
    "## Defined Functions"
   ]
  },
  {
   "cell_type": "code",
   "execution_count": 2,
   "id": "a251fc82",
   "metadata": {},
   "outputs": [],
   "source": [
    "def strToDict(string):\n",
    "    \n",
    "    string = re.split('{|}|, \\'', string)\n",
    "    ans = {}\n",
    "    for i in string:\n",
    "        if i != '' and i != '[' and i != ']':\n",
    "            i = re.split(':|[:| ]+', i)\n",
    "            if i[0][0] == \"'\":\n",
    "                key = i[0][1:len(i[0])-1]\n",
    "            else:\n",
    "                key = i[0][:len(i[0])-1]\n",
    "            ans[key] = i[2]\n",
    "            if len(i) > 3:\n",
    "                for j in i[3:]:\n",
    "                    ans[key] += \" \" + j\n",
    "            if ans[key].isdigit():\n",
    "                ans[key] = int(ans[key])\n",
    "            elif ans[key][0] == \"'\":\n",
    "                ans[key] = ans[key][1:len(ans[key])-1]\n",
    "                if ans[key].lower() == 'None'.lower():\n",
    "                    ans[key] = None\n",
    "\n",
    "    return ans"
   ]
  },
  {
   "cell_type": "code",
   "execution_count": 3,
   "id": "b2f3134c",
   "metadata": {},
   "outputs": [],
   "source": [
    "def listToText(li):\n",
    "    if type(li) == list:\n",
    "        ans = li[0]['name']\n",
    "        for i in li[1:]:\n",
    "            ans += ',' + i['name']\n",
    "    else:\n",
    "        ans = ''\n",
    "    \n",
    "    return ans"
   ]
  },
  {
   "cell_type": "code",
   "execution_count": 4,
   "id": "1bba012f",
   "metadata": {},
   "outputs": [],
   "source": [
    "# Generating Feature for Machine Learning\n",
    "def generateFeatures(moviesMetadata, keywords, metadataColumns, keywordsColumns):\n",
    "    moviesMetadataFeatureColumns = [metadataColumns[5], metadataColumns[20], metadataColumns[9], metadataColumns[3]]\n",
    "    moviesMetadataFeature = moviesMetadata[moviesMetadataFeatureColumns]\n",
    "\n",
    "    keywordsFeature = pd.merge(moviesMetadataFeature, keywords, on = keywordsColumns[0])\n",
    "    keywordsFeatureColumns = keywordsFeature.columns\n",
    "    \n",
    "    keywordsFeature[keywordsFeatureColumns[3]] = keywordsFeature[keywordsFeatureColumns[3]].apply(listToText)\n",
    "    keywordsFeature[keywordsFeatureColumns[4]] = keywordsFeature[keywordsFeatureColumns[4]].apply(listToText)\n",
    "\n",
    "    keywordsFeature['Tags'] = keywordsFeature[keywordsFeatureColumns[2]] + keywordsFeature[keywordsFeatureColumns[3]] + keywordsFeature[keywordsFeatureColumns[4]]\n",
    "    rowsToDrop = keywordsFeature.loc[keywordsFeature['Tags'] == '', keywordsFeatureColumns[0]]\n",
    "    \n",
    "    keywordsFeature.drop(columns = keywordsFeatureColumns[2:], inplace = True)\n",
    "    keywordsFeature.drop(index = rowsToDrop.index, inplace = True)\n",
    "    keywordsFeature.reset_index(inplace = True)\n",
    "    return keywordsFeature, rowsToDrop"
   ]
  },
  {
   "cell_type": "markdown",
   "id": "3a5518bd",
   "metadata": {},
   "source": [
    "## Loading and Cleaning Dataset"
   ]
  },
  {
   "cell_type": "code",
   "execution_count": 5,
   "id": "afb75065",
   "metadata": {},
   "outputs": [],
   "source": [
    "pd.options.mode.chained_assignment = None\n",
    "\n",
    "def loadData():\n",
    "    # Datasets and their Storage Path\n",
    "    csvPath = 'D:\\Machine Learning and Data Science\\Projects\\Movie Recommendation System\\Dataset'\n",
    "    csvFiles = ['\\movies_metadata.csv', '\\keywords.csv']\n",
    "\n",
    "    # Defining Columns and Data Types\n",
    "    metadataColumns = [\"Adult\", \"Collection\", \"Budget\", \"Genres\", \"Homepage\", \"ID\", \"IMDB ID\", \"Original Language\", \"Original Title\", \"Overview\", \"Popularity\", \"Poster Path\", \"Production Companies\", \"Production Countries\", \"Release Date\", \"Revenue\", \"Runtime\", \"Spoken Languages\", \"Status\", \"Tagline\", \"Title\", \"Video\", \"Vote Average\", \"Vote Count\"]\n",
    "    keywordsColumns = ['ID', 'Keywords']\n",
    "    \n",
    "    # Opening CSV files as Pandas Data Frame\n",
    "    moviesMetadata = pd.read_csv(csvPath + csvFiles[0], header = 0, names = metadataColumns, low_memory = False, nrows = 25000)\n",
    "    keywords = pd.read_csv(csvPath + csvFiles[1], header = 0, names = keywordsColumns)\n",
    "    \n",
    "    # Cleaning and Preparing Data Frame\n",
    "    # Cleaning Movies Metadata Data Frame\n",
    "    moviesMetadata.fillna('' ,inplace = True)\n",
    "    \n",
    "    if type(moviesMetadata[metadataColumns[0]][0]) == str:\n",
    "        unwantedRowsIndex = moviesMetadata[np.logical_and(moviesMetadata[metadataColumns[0]].str.upper() != 'FALSE', moviesMetadata[metadataColumns[0]].str.upper() != 'TRUE')].index\n",
    "        moviesMetadata.drop(index = unwantedRowsIndex, inplace = True)\n",
    "        moviesMetadata.reset_index(inplace = True)\n",
    "        moviesMetadata[metadataColumns[0]] = [ele.lower().capitalize() == \"True\" for ele in moviesMetadata[metadataColumns[0]]]\n",
    "    \n",
    "\n",
    "    for i in range(moviesMetadata.shape[0]):\n",
    "        if moviesMetadata[metadataColumns[1]][i] != '':\n",
    "            moviesMetadata[metadataColumns[1]][i] = strToDict(moviesMetadata[metadataColumns[1]][i])\n",
    "\n",
    "    moviesMetadata[metadataColumns[2]] = moviesMetadata[metadataColumns[2]].apply(int)\n",
    "\n",
    "    for i in range(moviesMetadata.shape[0]):\n",
    "        if moviesMetadata[metadataColumns[3]][i] != '' and moviesMetadata[metadataColumns[3]][i] != '[]':\n",
    "            y = re.split('}, {',moviesMetadata[metadataColumns[3]][i])\n",
    "            temp = []\n",
    "            for j in y:\n",
    "                if j != '':\n",
    "                    ans = strToDict(j)\n",
    "                    temp.append(ans)\n",
    "            moviesMetadata[metadataColumns[3]][i] = temp\n",
    "\n",
    "    moviesMetadata[metadataColumns[5]] = moviesMetadata[metadataColumns[5]].apply(int)\n",
    "\n",
    "    unwantedRowsIndex = moviesMetadata[moviesMetadata[metadataColumns[10]] == ''].index\n",
    "    moviesMetadata.drop(index = unwantedRowsIndex, inplace = True)\n",
    "    moviesMetadata.reset_index(inplace = True)\n",
    "    moviesMetadata[metadataColumns[10]] = moviesMetadata[metadataColumns[10]].apply(float)\n",
    "\n",
    "    for i in range(moviesMetadata.shape[0]):\n",
    "        if moviesMetadata[metadataColumns[12]][i] != '' and moviesMetadata[metadataColumns[12]][i] != '[]':\n",
    "            y = re.split('}, {',moviesMetadata[metadataColumns[12]][i])\n",
    "            temp = []\n",
    "            for j in y:\n",
    "                if j != '':\n",
    "                    ans = strToDict(j)\n",
    "                    temp.append(ans)\n",
    "            moviesMetadata[metadataColumns[12]][i] = temp\n",
    "\n",
    "    for i in range(moviesMetadata.shape[0]):\n",
    "        if moviesMetadata[metadataColumns[13]][i] != '' and moviesMetadata[metadataColumns[13]][i] != '[]':\n",
    "            y = re.split('}, {',moviesMetadata[metadataColumns[13]][i])\n",
    "            temp = []\n",
    "            for j in y:\n",
    "                if j != '':\n",
    "                    ans = strToDict(j)\n",
    "                    temp.append(ans)\n",
    "            moviesMetadata[metadataColumns[13]][i] = temp\n",
    "\n",
    "    moviesMetadata[metadataColumns[14]] = pd.to_datetime(moviesMetadata[metadataColumns[14]], format='%Y-%m-%d')\n",
    "    moviesMetadata[metadataColumns[14]] = moviesMetadata[metadataColumns[14]].apply(lambda x: x.date())\n",
    "\n",
    "    moviesMetadata[metadataColumns[15]] = moviesMetadata[metadataColumns[15]].apply(float)\n",
    "\n",
    "    moviesMetadata[metadataColumns[16]].fillna('None', inplace = True) \n",
    "\n",
    "    for i in range(moviesMetadata.shape[0]):\n",
    "        if moviesMetadata[metadataColumns[17]][i] != '' and moviesMetadata[metadataColumns[17]][i] != '[]':\n",
    "            y = re.split('}, {',moviesMetadata[metadataColumns[17]][i])\n",
    "            temp = []\n",
    "            for j in y:\n",
    "                if j != '':\n",
    "                    ans = strToDict(j)\n",
    "                    temp.append(ans)\n",
    "            moviesMetadata[metadataColumns[17]][i] = temp\n",
    "\n",
    "    moviesMetadata[metadataColumns[22]] = moviesMetadata[metadataColumns[22]].apply(float)\n",
    "    moviesMetadata[metadataColumns[23]] = moviesMetadata[metadataColumns[23]].apply(int)\n",
    "\n",
    "    # Cleaning Keywords Data Frame\n",
    "    \n",
    "    keywords = keywords[keywords[keywordsColumns[0]].isin(moviesMetadata[metadataColumns[5]])]   \n",
    "    keywords.reset_index(inplace = True)\n",
    "    \n",
    "    for i in range(keywords.shape[0]):\n",
    "        if keywords[keywordsColumns[1]][i] != '' and keywords[keywordsColumns[1]][i] != '[]':\n",
    "            y = re.split('}, {',keywords[keywordsColumns[1]][i])\n",
    "            temp = []\n",
    "            for j in y:\n",
    "                if j != '':\n",
    "                    ans = strToDict(j)\n",
    "                    temp.append(ans)\n",
    "            keywords[keywordsColumns[1]][i] = temp\n",
    "    return moviesMetadata.copy(), keywords.copy(), metadataColumns, keywordsColumns"
   ]
  },
  {
   "cell_type": "markdown",
   "id": "285c6974",
   "metadata": {},
   "source": [
    "## Making Model"
   ]
  },
  {
   "cell_type": "code",
   "execution_count": 6,
   "id": "0c02408f",
   "metadata": {
    "scrolled": true
   },
   "outputs": [],
   "source": [
    "moviesMetadata, keywords, metadataColumns, keywordsColumns= loadData()"
   ]
  },
  {
   "cell_type": "code",
   "execution_count": 7,
   "id": "9595a0b3",
   "metadata": {},
   "outputs": [],
   "source": [
    "keyFeature, rowsToDrop = generateFeatures(moviesMetadata, keywords, metadataColumns, keywordsColumns)"
   ]
  },
  {
   "cell_type": "code",
   "execution_count": 8,
   "id": "4aca23ff",
   "metadata": {},
   "outputs": [],
   "source": [
    "keyFeatureColumns = keyFeature.columns"
   ]
  },
  {
   "cell_type": "code",
   "execution_count": 9,
   "id": "7f3b4c7b",
   "metadata": {},
   "outputs": [],
   "source": [
    "moviesMetadata.drop(index = rowsToDrop.index, inplace = True)\n",
    "moviesMetadata.drop(columns = 'level_0', inplace = True)\n",
    "moviesMetadata.reset_index(inplace = True)\n",
    "moviesMetadata.drop(columns = ['level_0','index'], inplace = True)\n",
    "\n",
    "keywords.drop(index = rowsToDrop.index, inplace = True)\n",
    "keywords.reset_index(inplace = True)\n",
    "keywords.drop(columns = ['level_0','index'], inplace = True)"
   ]
  },
  {
   "cell_type": "markdown",
   "id": "e882ce48",
   "metadata": {},
   "source": [
    "### Initializing and Fiting Model"
   ]
  },
  {
   "cell_type": "code",
   "execution_count": 10,
   "id": "3382ef9e",
   "metadata": {},
   "outputs": [],
   "source": [
    "model = CountVectorizer(max_features = keyFeature.shape[0], stop_words = 'english')"
   ]
  },
  {
   "cell_type": "code",
   "execution_count": 11,
   "id": "1b8512e8",
   "metadata": {},
   "outputs": [],
   "source": [
    "vector = model.fit_transform(keyFeature[keyFeatureColumns[3]].values.astype('U')).toarray()"
   ]
  },
  {
   "cell_type": "markdown",
   "id": "d4154c85",
   "metadata": {},
   "source": [
    "### Creating Cosine Similarity Matrix"
   ]
  },
  {
   "cell_type": "code",
   "execution_count": 12,
   "id": "717b5278",
   "metadata": {},
   "outputs": [],
   "source": [
    "similarVector = cosine_similarity(vector)"
   ]
  },
  {
   "cell_type": "markdown",
   "id": "5a414623",
   "metadata": {},
   "source": [
    "## Dumping Processed Data"
   ]
  },
  {
   "cell_type": "code",
   "execution_count": 13,
   "id": "162fcab0",
   "metadata": {},
   "outputs": [],
   "source": [
    "dataDumpFolder = 'D:\\Machine Learning and Data Science\\Projects\\Movie Recommendation System\\Processed Data'\n",
    "\n",
    "dataDumpFiles = ['\\keyFeature.pkl', '\\similarVector.pkl', '\\moviesMetadataProcessed.pkl', '\\keywordsProcessed.pkl']"
   ]
  },
  {
   "cell_type": "code",
   "execution_count": 14,
   "id": "bba2e5bc",
   "metadata": {},
   "outputs": [],
   "source": [
    "pickle.dump(keyFeature, open(dataDumpFolder + dataDumpFiles[0], 'wb'))\n",
    "pickle.dump(similarVector, open(dataDumpFolder + dataDumpFiles[1], 'wb'))\n",
    "pickle.dump(moviesMetadata, open(dataDumpFolder + dataDumpFiles[2], 'wb'))\n",
    "pickle.dump(keywords, open(dataDumpFolder + dataDumpFiles[3], 'wb'))"
   ]
  }
 ],
 "metadata": {
  "kernelspec": {
   "display_name": "Python 3 (ipykernel)",
   "language": "python",
   "name": "python3"
  },
  "language_info": {
   "codemirror_mode": {
    "name": "ipython",
    "version": 3
   },
   "file_extension": ".py",
   "mimetype": "text/x-python",
   "name": "python",
   "nbconvert_exporter": "python",
   "pygments_lexer": "ipython3",
   "version": "3.8.17"
  }
 },
 "nbformat": 4,
 "nbformat_minor": 5
}
